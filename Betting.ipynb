{
 "cells": [
  {
   "cell_type": "markdown",
   "metadata": {},
   "source": [
    "###### Test zone for betting story"
   ]
  },
  {
   "cell_type": "code",
   "execution_count": 20,
   "metadata": {},
   "outputs": [
    {
     "name": "stdout",
     "output_type": "stream",
     "text": [
      "Bookies book 1.16\n",
      "bookies odds of winning h1 0.31\n",
      "probability of winning h1 0.27\n",
      "bookies odds of winning h2 0.23\n",
      "probability of winning h2 0.2\n",
      "bookies odds of winning h3 0.22\n",
      "probability of winning h3 0.19\n"
     ]
    }
   ],
   "source": [
    "#create a race\n",
    "# generate some values for horses taken from xxxxxx\n",
    "#horse 1 = 9/4\n",
    "#horse 2 = 10/3 \n",
    "#horse 3 = 7/2\n",
    "#horse 4 = 4/1\n",
    "#horse 5 = 8/1\n",
    "#horse 6 = 16/1\n",
    "#horse 7 = 33/1\n",
    "\n",
    "\n",
    "# calculate horse percentage\n",
    "h1 =4/13\n",
    "h2 =3/13\n",
    "h3 =2/9\n",
    "h4 =1/5\n",
    "h5 =1/9\n",
    "h6 =1/17\n",
    "h7 =1/34\n",
    "#calculate the book percentage\n",
    "bp = h1+h2+h3+h4+h5+h6+h7\n",
    "print(\"Bookies book\",(round(bp,2)))\n",
    "\n",
    "# calculate probability of winning\n",
    "print (\"bookies odds of winning h1\", (round(h1,2)))\n",
    "print (\"probability of winning h1\" , (round(h1/bp,2)))\n",
    "print (\"bookies odds of winning h2\", (round(h2,2)))\n",
    "print (\"probability of winning h2\" , (round(h2/bp,2)))\n",
    "print (\"bookies odds of winning h3\", (round(h3,2)))\n",
    "print (\"probability of winning h3\" , (round(h3/bp,2)))"
   ]
  },
  {
   "cell_type": "code",
   "execution_count": 206,
   "metadata": {},
   "outputs": [
    {
     "name": "stdout",
     "output_type": "stream",
     "text": [
      "0.504623512145761\n"
     ]
    }
   ],
   "source": [
    "#create a winner\n",
    "import numpy as np\n",
    "rng = np.random.default_rng()\n",
    "w= rng.normal(0,0.3)\n",
    "y=(abs(w))\n",
    "print (y)\n",
    "if y < (h1/bp):\n",
    "    print (\"horse 1 wins\")\n",
    "if ((h1+h2)/bp) > y > (h1/bp):\n",
    "    print (\"horse 2 wins\")\n",
    "if ((h1+h2+h3)/bp) > y > (h1+h2/bp):\n",
    "    print (\"horse 3 wins\")\n",
    "if ((h1+h2+h3+h4)/bp) > y > (h1+h2+h3/bp):\n",
    "    print(\"horse 4 wins\")\n",
    "if ((h1+h2+h3+h4+h5)/bp) > y > (h1+h2+h3+h4/bp):\n",
    "    print(\"horse 5 wins\")\n",
    "if ((h1+h2+h3+h4+h5+h6)/bp) > y > (h1+h2+h3+h4+h5/bp):\n",
    "    print(\"horse 6 wins\")\n",
    "if ((h1+h2+h3+h4+h5+h6+h7)/bp) > y > (h1+h2+h3+h4+h5+h6/bp):\n",
    "    print(\"horse 7 wins\")"
   ]
  }
 ],
 "metadata": {
  "kernelspec": {
   "display_name": "Python 3",
   "language": "python",
   "name": "python3"
  },
  "language_info": {
   "codemirror_mode": {
    "name": "ipython",
    "version": 3
   },
   "file_extension": ".py",
   "mimetype": "text/x-python",
   "name": "python",
   "nbconvert_exporter": "python",
   "pygments_lexer": "ipython3",
   "version": "3.8.3"
  }
 },
 "nbformat": 4,
 "nbformat_minor": 4
}
