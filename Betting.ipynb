{
 "cells": [
  {
   "cell_type": "markdown",
   "metadata": {},
   "source": [
    "###### Test zone for betting story"
   ]
  },
  {
   "cell_type": "code",
   "execution_count": 2,
   "metadata": {},
   "outputs": [
    {
     "name": "stdout",
     "output_type": "stream",
     "text": [
      "Bookies book 1.16\n",
      "bookies odds of winning h1 0.308\n",
      "probability of winning h1 0.265\n",
      "bookies odds of winning h2 0.231\n",
      "probability of winning h2 0.199\n",
      "bookies odds of winning h3 0.222\n",
      "probability of winning h3 0.192\n",
      "bookies odds of winning h4 0.2\n",
      "probability of winning h4 0.172\n",
      "bookies odds of winning h5 0.111\n",
      "probability of winning h5 0.096\n",
      "bookies odds of winning h6 0.059\n",
      "probability of winning h6 0.051\n",
      "bookies odds of winning h7 0.029\n",
      "probability of winning h7 0.025\n"
     ]
    }
   ],
   "source": [
    "#create a race\n",
    "# generate some values for horses taken from xxxxxx\n",
    "#horse 1 = 9/4\n",
    "#horse 2 = 10/3 \n",
    "#horse 3 = 7/2\n",
    "#horse 4 = 4/1\n",
    "#horse 5 = 8/1\n",
    "#horse 6 = 16/1\n",
    "#horse 7 = 33/1\n",
    "\n",
    "\n",
    "# calculate horse percentage\n",
    "h1 =4/13\n",
    "h2 =3/13\n",
    "h3 =2/9\n",
    "h4 =1/5\n",
    "h5 =1/9\n",
    "h6 =1/17\n",
    "h7 =1/34\n",
    "#calculate the book percentage\n",
    "bp = h1+h2+h3+h4+h5+h6+h7\n",
    "print(\"Bookies book\",(round(bp,2)))\n",
    "\n",
    "# calculate probability of winning\n",
    "print (\"bookies odds of winning h1\", (round(h1,3)))\n",
    "print (\"probability of winning h1\" , (round(h1/bp,3)))\n",
    "print (\"bookies odds of winning h2\", (round(h2,3)))\n",
    "print (\"probability of winning h2\" , (round(h2/bp,3)))\n",
    "print (\"bookies odds of winning h3\", (round(h3,3)))\n",
    "print (\"probability of winning h3\" , (round(h3/bp,3)))\n",
    "print (\"bookies odds of winning h4\", (round(h4,3)))\n",
    "print (\"probability of winning h4\" , (round(h4/bp,3)))\n",
    "print (\"bookies odds of winning h5\", (round(h5,3)))\n",
    "print (\"probability of winning h5\" , (round(h5/bp,3)))\n",
    "print (\"bookies odds of winning h6\", (round(h6,3)))\n",
    "print (\"probability of winning h6\" , (round(h6/bp,3)))\n",
    "print (\"bookies odds of winning h7\", (round(h7,3)))\n",
    "print (\"probability of winning h7\" , (round(h7/bp,3)))"
   ]
  },
  {
   "cell_type": "code",
   "execution_count": 41,
   "metadata": {},
   "outputs": [
    {
     "name": "stdout",
     "output_type": "stream",
     "text": [
      "0.19199311898520616\n",
      "horse 1 wins\n",
      "0.12502254130158985\n",
      "horse 1 wins\n",
      "0.30424974407616834\n",
      "horse 2 wins\n",
      "0.11855526365640981\n",
      "horse 1 wins\n",
      "0.15520269569055536\n",
      "horse 1 wins\n",
      "0.03569542294524115\n",
      "horse 1 wins\n",
      "0.04023661786768665\n",
      "horse 1 wins\n",
      "0.8384476860627917\n",
      "horse 5 wins\n",
      "0.3360525538973781\n",
      "horse 2 wins\n",
      "0.41634287677088827\n",
      "horse 2 wins\n"
     ]
    },
    {
     "ename": "SyntaxError",
     "evalue": "'return' outside function (<ipython-input-41-e4e03cd89546>, line 26)",
     "output_type": "error",
     "traceback": [
      "\u001b[1;36m  File \u001b[1;32m\"<ipython-input-41-e4e03cd89546>\"\u001b[1;36m, line \u001b[1;32m26\u001b[0m\n\u001b[1;33m    return\u001b[0m\n\u001b[1;37m    ^\u001b[0m\n\u001b[1;31mSyntaxError\u001b[0m\u001b[1;31m:\u001b[0m 'return' outside function\n"
     ]
    }
   ],
   "source": [
    "#create a winner\n",
    "import numpy as np\n",
    "rng = np.random.default_rng()\n",
    "races = 0\n",
    "while races < 1:\n",
    "    w= rng.normal(0,0.31)\n",
    "    y=(abs(w))\n",
    "    print (y)\n",
    "    if y < (h1/bp):\n",
    "        print (\"horse 1 wins\")\n",
    "    elif ((h1+h2)/bp) > y > (h1/bp):\n",
    "        print (\"horse 2 wins\")\n",
    "    elif ((h1+h2+h3)/bp) > y > ((h1+h2)/bp):\n",
    "        print (\"horse 3 wins\")\n",
    "    elif ((h1+h2+h3+h4)/bp) > y > ((h1+h2+h3)/bp):\n",
    "        print(\"horse 4 wins\")\n",
    "    elif ((h1+h2+h3+h4+h5)/bp) > y > ((h1+h2+h3+h4)/bp):\n",
    "        print(\"horse 5 wins\")\n",
    "    elif ((h1+h2+h3+h4+h5+h6)/bp) > y > ((h1+h2+h3+h4+h5)/bp):\n",
    "        print(\"horse 6 wins\")\n",
    "    elif ((h1+h2+h3+h4+h5+h6+h7)/bp) > y > ((h1+h2+h3+h4+h5+h6)/bp):\n",
    "        print(\"horse 7 wins\")\n",
    "    else :\n",
    "        print(\"deadheat\")\n",
    "    races = races + 1\n",
    "return\n",
    "print(\"end\")"
   ]
  },
  {
   "cell_type": "code",
   "execution_count": 162,
   "metadata": {},
   "outputs": [
    {
     "name": "stdout",
     "output_type": "stream",
     "text": [
      "1.0\n",
      "0.9746456897672605\n"
     ]
    }
   ],
   "source": [
    "print ((h1+h2+h3+h4+h5+h6+h7)/bp)\n",
    "print((h1+h2+h3+h4+h5+h6)/bp)"
   ]
  },
  {
   "cell_type": "code",
   "execution_count": null,
   "metadata": {},
   "outputs": [],
   "source": [
    "#create a winner\n",
    "import numpy as np\n",
    "rng = np.random.default_rng()\n",
    "races = 0\n",
    "#while races < 100:\n",
    "w= rng.normal(0,0.3)\n",
    "#y=(abs(w))\n",
    "    y= 0.47\n",
    "    print (y)\n",
    "    if y < (h1/bp):\n",
    "        print (\"horse 1 wins\")\n",
    "    if ((h1+h2)/bp) > y > (h1/bp):\n",
    "        print (\"horse 2 wins\")\n",
    "    if ((h1+h2+h3)/bp) > y > (h1+h2/bp):\n",
    "        print (\"horse 3 wins\")\n",
    "    if ((h1+h2+h3+h4)/bp) > y > (h1+h2+h3/bp):\n",
    "        print(\"horse 4 wins\")\n",
    "    if ((h1+h2+h3+h4+h5)/bp) > y > (h1+h2+h3+h4/bp):\n",
    "        print(\"horse 5 wins\")\n",
    "    if ((h1+h2+h3+h4+h5+h6)/bp) > y > (h1+h2+h3+h4+h5/bp):\n",
    "        print(\"horse 6 wins\")\n",
    "    if ((h1+h2+h3+h4+h5+h6+h7)/bp) > y > (h1+h2+h3+h4+h5+h6/bp):\n",
    "        print(\"horse 7 wins\")\n",
    "    races = races + 1\n",
    "#return"
   ]
  },
  {
   "cell_type": "code",
   "execution_count": 50,
   "metadata": {},
   "outputs": [
    {
     "name": "stdout",
     "output_type": "stream",
     "text": [
      "0.6575371536732195\n",
      "horse 4 wins\n",
      "0.6674453235084425\n",
      "horse 4 wins\n",
      "0.04198695715091205\n",
      "horse 1 wins\n",
      "0.017779541526284692\n",
      "horse 1 wins\n",
      "0.3539351992143712\n",
      "horse 2 wins\n",
      "0.5791917995358362\n",
      "horse 3 wins\n",
      "0.06169286693952836\n",
      "horse 1 wins\n",
      "0.07644935965707733\n",
      "horse 1 wins\n",
      "0.8601117707973615\n",
      "horse 5 wins\n",
      "0.22175230039576854\n",
      "horse 1 wins\n"
     ]
    },
    {
     "ename": "SyntaxError",
     "evalue": "'return' outside function (<ipython-input-50-81a562bea9f4>, line 26)",
     "output_type": "error",
     "traceback": [
      "\u001b[1;36m  File \u001b[1;32m\"<ipython-input-50-81a562bea9f4>\"\u001b[1;36m, line \u001b[1;32m26\u001b[0m\n\u001b[1;33m    return\u001b[0m\n\u001b[1;37m    ^\u001b[0m\n\u001b[1;31mSyntaxError\u001b[0m\u001b[1;31m:\u001b[0m 'return' outside function\n"
     ]
    }
   ],
   "source": [
    "#create a winner\n",
    "import numpy as np\n",
    "rng = np.random.default_rng()\n",
    "races = 0\n",
    "while races < 10:\n",
    "    w= rng.triangular(0,0,1)\n",
    "    y=(abs(w))\n",
    "    print (y)\n",
    "    if y < (h1/bp):\n",
    "        print (\"horse 1 wins\")\n",
    "    elif ((h1+h2)/bp) > y > (h1/bp):\n",
    "        print (\"horse 2 wins\")\n",
    "    elif ((h1+h2+h3)/bp) > y > ((h1+h2)/bp):\n",
    "        print (\"horse 3 wins\")\n",
    "    elif ((h1+h2+h3+h4)/bp) > y > ((h1+h2+h3)/bp):\n",
    "        print(\"horse 4 wins\")\n",
    "    elif ((h1+h2+h3+h4+h5)/bp) > y > ((h1+h2+h3+h4)/bp):\n",
    "        print(\"horse 5 wins\")\n",
    "    elif ((h1+h2+h3+h4+h5+h6)/bp) > y > ((h1+h2+h3+h4+h5)/bp):\n",
    "        print(\"horse 6 wins\")\n",
    "    elif ((h1+h2+h3+h4+h5+h6+h7)/bp) > y > ((h1+h2+h3+h4+h5+h6)/bp):\n",
    "        print(\"horse 7 wins\")\n",
    "    else :\n",
    "        print(\"deadheat\")\n",
    "    races = races + 1\n",
    "return\n",
    "print(\"end\")"
   ]
  },
  {
   "cell_type": "code",
   "execution_count": 53,
   "metadata": {},
   "outputs": [
    {
     "name": "stdout",
     "output_type": "stream",
     "text": [
      "0.2595540415117458\n",
      "horse 1 wins\n",
      "0.2565128317152735\n",
      "horse 1 wins\n",
      "0.43699952049996615\n",
      "horse 2 wins\n",
      "0.15199284014270578\n",
      "horse 1 wins\n",
      "0.4326697405339855\n",
      "horse 2 wins\n",
      "0.21879314674490113\n",
      "horse 1 wins\n",
      "0.47103303715900724\n",
      "horse 3 wins\n",
      "0.16157353077518072\n",
      "horse 1 wins\n",
      "0.32508884047741743\n",
      "horse 2 wins\n",
      "0.2441564928999666\n",
      "horse 1 wins\n"
     ]
    },
    {
     "ename": "SyntaxError",
     "evalue": "'return' outside function (<ipython-input-53-ecab60133427>, line 26)",
     "output_type": "error",
     "traceback": [
      "\u001b[1;36m  File \u001b[1;32m\"<ipython-input-53-ecab60133427>\"\u001b[1;36m, line \u001b[1;32m26\u001b[0m\n\u001b[1;33m    return\u001b[0m\n\u001b[1;37m    ^\u001b[0m\n\u001b[1;31mSyntaxError\u001b[0m\u001b[1;31m:\u001b[0m 'return' outside function\n"
     ]
    }
   ],
   "source": [
    "#create a winner\n",
    "import numpy as np\n",
    "rng = np.random.default_rng()\n",
    "races = 0\n",
    "while races < 10:\n",
    "    w= rng.rayleigh(0.3)\n",
    "    y=(abs(w))\n",
    "    print (y)\n",
    "    if y < (h1/bp):\n",
    "        print (\"horse 1 wins\")\n",
    "    elif ((h1+h2)/bp) > y > (h1/bp):\n",
    "        print (\"horse 2 wins\")\n",
    "    elif ((h1+h2+h3)/bp) > y > ((h1+h2)/bp):\n",
    "        print (\"horse 3 wins\")\n",
    "    elif ((h1+h2+h3+h4)/bp) > y > ((h1+h2+h3)/bp):\n",
    "        print(\"horse 4 wins\")\n",
    "    elif ((h1+h2+h3+h4+h5)/bp) > y > ((h1+h2+h3+h4)/bp):\n",
    "        print(\"horse 5 wins\")\n",
    "    elif ((h1+h2+h3+h4+h5+h6)/bp) > y > ((h1+h2+h3+h4+h5)/bp):\n",
    "        print(\"horse 6 wins\")\n",
    "    elif ((h1+h2+h3+h4+h5+h6+h7)/bp) > y > ((h1+h2+h3+h4+h5+h6)/bp):\n",
    "        print(\"horse 7 wins\")\n",
    "    else :\n",
    "        print(\"deadheat\")\n",
    "    races = races + 1\n",
    "return\n",
    "print(\"end\")"
   ]
  },
  {
   "cell_type": "code",
   "execution_count": 54,
   "metadata": {},
   "outputs": [
    {
     "ename": "TypeError",
     "evalue": "raw_input() takes from 1 to 2 positional arguments but 3 were given",
     "output_type": "error",
     "traceback": [
      "\u001b[1;31m---------------------------------------------------------------------------\u001b[0m",
      "\u001b[1;31mTypeError\u001b[0m                                 Traceback (most recent call last)",
      "\u001b[1;32m<ipython-input-54-d3449a6c04fe>\u001b[0m in \u001b[0;36m<module>\u001b[1;34m\u001b[0m\n\u001b[0;32m      1\u001b[0m \u001b[1;31m#have a bet\u001b[0m\u001b[1;33m\u001b[0m\u001b[1;33m\u001b[0m\u001b[1;33m\u001b[0m\u001b[0m\n\u001b[1;32m----> 2\u001b[1;33m \u001b[0mbet\u001b[0m  \u001b[1;33m=\u001b[0m \u001b[0minput\u001b[0m\u001b[1;33m(\u001b[0m\u001b[1;34m\"how much would you like to bet?\"\u001b[0m\u001b[1;33m,\u001b[0m \u001b[0mint\u001b[0m\u001b[1;33m(\u001b[0m\u001b[1;33m)\u001b[0m\u001b[1;33m)\u001b[0m\u001b[1;33m\u001b[0m\u001b[1;33m\u001b[0m\u001b[0m\n\u001b[0m",
      "\u001b[1;31mTypeError\u001b[0m: raw_input() takes from 1 to 2 positional arguments but 3 were given"
     ]
    }
   ],
   "source": [
    "#have a bet\n",
    "bet  = input(\"how much would you like to bet?\", int())\n",
    "horse = input(\"on which horse\", str())"
   ]
  }
 ],
 "metadata": {
  "kernelspec": {
   "display_name": "Python 3",
   "language": "python",
   "name": "python3"
  },
  "language_info": {
   "codemirror_mode": {
    "name": "ipython",
    "version": 3
   },
   "file_extension": ".py",
   "mimetype": "text/x-python",
   "name": "python",
   "nbconvert_exporter": "python",
   "pygments_lexer": "ipython3",
   "version": "3.8.5"
  }
 },
 "nbformat": 4,
 "nbformat_minor": 4
}
