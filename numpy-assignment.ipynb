{
 "cells": [
  {
   "cell_type": "markdown",
   "metadata": {},
   "source": [
    "# numpy assignment\n",
    "###### programming for data analysis\n",
    "###### Jonathan Harper"
   ]
  },
  {
   "cell_type": "code",
   "execution_count": null,
   "metadata": {},
   "outputs": [],
   "source": [
    "#[1]numpy information ; https://numpy.org/doc/stable/user/whatisnumpy.html\n",
    "#[2]numpy definition ; https://en.wikipedia.org/wiki/NumPy\n",
    "#[3]numpy introdiction ; https://www.w3schools.com/python/numpy_intro.asp#:~:text=NumPy%20is%20a%20python%20library,you%20can%20use%20it%20freely.\n",
    "#[4]Git hub numpy ; https://cs231n.github.io/python-numpy-tutorial/\n",
    "#[5]numpy information ; https://numpy.org/doc/stable/reference/random/generator"
   ]
  },
  {
   "cell_type": "code",
   "execution_count": null,
   "metadata": {},
   "outputs": [],
   "source": []
  },
  {
   "cell_type": "markdown",
   "metadata": {},
   "source": [
    "# 1.0 What is NumPy ?\n",
    "> NumPy (Numerical Python) is a package used in the python programming language, it's capability is centered around efficient computation of array's. It utilises precomplied C code to deliver fast processesing, the other benefit is that the python code is much simpler.\n",
    "\n",
    "> Simply stated an array is a list contaning a single data species (each item is an element). Each elelment has a fixed position within the array. Unlike lists they can not be added too.\n",
    "\n",
    "> Below are the example codes for multiplication using a for loop (on a list, <em>ex 1.1</em>) and the using the NumPy package (on an array <em>ex 1.2</em>). Note the simplicity in the second example with the syntax for the actual operation being as simple as a x b.NumPy also works with multidimentional arrays with the syntax for the programmer remaining the same <em>ex 1.3</em>. This maintainance sytax to the user makes NumPy very user friendly in the wider scientific community."
   ]
  },
  {
   "cell_type": "markdown",
   "metadata": {},
   "source": [
    "###### 1.1 multiplication as a list"
   ]
  },
  {
   "cell_type": "code",
   "execution_count": 6,
   "metadata": {},
   "outputs": [
    {
     "name": "stdout",
     "output_type": "stream",
     "text": [
      "[4, 16, 64, 256, 1024]\n"
     ]
    }
   ],
   "source": [
    "# Demonstration of list multiplication [1]\n",
    "a=[2,4,8,16,32]\n",
    "b=[2,4,8,16,32]\n",
    "c=[]\n",
    "for i in range(len(a)):\n",
    "    c.append(a[i]*b[i])\n",
    "print(c)"
   ]
  },
  {
   "cell_type": "markdown",
   "metadata": {},
   "source": [
    "###### 1.2 multiplication as an array"
   ]
  },
  {
   "cell_type": "code",
   "execution_count": 16,
   "metadata": {},
   "outputs": [
    {
     "name": "stdout",
     "output_type": "stream",
     "text": [
      "[array([   4,   16,   64,  256, 1024])]\n"
     ]
    }
   ],
   "source": [
    "# Demonstration of array multiplication [1](with addition of python numpy notiation)\n",
    "import numpy as np\n",
    "a=np.array([2,4,8,16,32])\n",
    "b=np.array([2,4,8,16,32])\n",
    "c= [a*b]\n",
    "print(c)"
   ]
  },
  {
   "cell_type": "markdown",
   "metadata": {},
   "source": [
    "###### 1.3 multiplication of 2-d array"
   ]
  },
  {
   "cell_type": "code",
   "execution_count": 19,
   "metadata": {},
   "outputs": [
    {
     "name": "stdout",
     "output_type": "stream",
     "text": [
      "[array([[   4,   16,   64,  256, 1024],\n",
      "       [   4,   16,   64,  256, 1024]])]\n"
     ]
    }
   ],
   "source": [
    "# Demonstration of array multiplication [1](by extention of 1.2)\n",
    "import numpy as np\n",
    "a=np.array([[2,4,8,16,32],[2,4,8,16,32]])\n",
    "b=np.array([[2,4,8,16,32],[2,4,8,16,32]])\n",
    "c= [a*b]\n",
    "print(c)"
   ]
  },
  {
   "cell_type": "markdown",
   "metadata": {},
   "source": [
    "# 2.Sample Random data"
   ]
  },
  {
   "cell_type": "markdown",
   "metadata": {},
   "source": [
    "###### In this _section_ the following 4 options in the simple random data section will be described with examples of output given.\n",
    "    2.1 integers\n",
    "    2.2 random\n",
    "    2.3 choice\n",
    "    2.4 bytes"
   ]
  },
  {
   "cell_type": "markdown",
   "metadata": {},
   "source": [
    "###### <em> 2.1 integers <em/>\n",
    "    \n",
    "###### example output of a 2x7 matrix using script in 2.1.1 with default low (0) and high value set at 30, note with endpoint set to true the max value randomly assigned in the matrix can (and is in this example) 30. With the end point value set to false (or not optioned) the max value assigned would be 9.\n",
    "\n",
    ">[ 1,  8,  1,  6,  7,  7, 10],\n",
    " [ 2,  7, 10,  9,  4,  5,  6]"
   ]
  },
  {
   "cell_type": "markdown",
   "metadata": {},
   "source": [
    "* 2.1.1"
   ]
  },
  {
   "cell_type": "code",
   "execution_count": 36,
   "metadata": {},
   "outputs": [
    {
     "data": {
      "text/plain": [
       "array([[ 1,  8,  1,  6,  7,  7, 10],\n",
       "       [ 2,  7, 10,  9,  4,  5,  6]], dtype=int64)"
      ]
     },
     "execution_count": 36,
     "metadata": {},
     "output_type": "execute_result"
    }
   ],
   "source": [
    "import numpy as np\n",
    "rng = np.random.default_rng()\n",
    "rng.integers(10, size =(2,7),endpoint='true')"
   ]
  },
  {
   "cell_type": "code",
   "execution_count": null,
   "metadata": {},
   "outputs": [],
   "source": [
    "import numpy as np\n",
    "import matplotlib.pyplot as plt\n",
    "x=10\n",
    "while x <= 1000:\n",
    "    n = rng.integers(100, size=x)\n",
    "    plt.hist(n)\n",
    "    x=x*10"
   ]
  }
 ],
 "metadata": {
  "kernelspec": {
   "display_name": "Python 3",
   "language": "python",
   "name": "python3"
  },
  "language_info": {
   "codemirror_mode": {
    "name": "ipython",
    "version": 3
   },
   "file_extension": ".py",
   "mimetype": "text/x-python",
   "name": "python",
   "nbconvert_exporter": "python",
   "pygments_lexer": "ipython3",
   "version": "3.8.3"
  }
 },
 "nbformat": 4,
 "nbformat_minor": 4
}
